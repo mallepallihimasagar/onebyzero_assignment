{
 "cells": [
  {
   "cell_type": "code",
   "execution_count": null,
   "metadata": {},
   "outputs": [],
   "source": [
    "#!pip install chromadb langchain"
   ]
  },
  {
   "cell_type": "code",
   "execution_count": 1,
   "metadata": {},
   "outputs": [],
   "source": [
    "import pandas as pd"
   ]
  },
  {
   "cell_type": "code",
   "execution_count": 2,
   "metadata": {},
   "outputs": [],
   "source": [
    "main_df = pd.read_excel(\"topical_chat.xlsx\")\n",
    "main_df = main_df.dropna()\n",
    "main_df = main_df[main_df['message'].notna() & (main_df['message'] != '')]\n",
    "main_df = main_df.reset_index(drop=True)\n",
    "\n",
    "first_100_conversations = main_df[main_df[\"conversation_id\"] <= 100]\n"
   ]
  },
  {
   "cell_type": "code",
   "execution_count": 9,
   "metadata": {},
   "outputs": [
    {
     "name": "stdout",
     "output_type": "stream",
     "text": [
      "Unique Conversation ids: [  1   2   3   4   5   6   7   8   9  10  11  12  13  14  15  16  17  18\n",
      "  19  20  21  22  23  24  25  26  27  28  29  30  31  32  33  34  35  36\n",
      "  37  38  39  40  41  42  43  44  45  46  47  48  49  50  51  52  53  54\n",
      "  55  56  57  58  59  60  61  62  63  64  65  66  67  68  69  70  71  72\n",
      "  73  74  75  76  77  78  79  80  81  82  83  84  85  86  87  88  89  90\n",
      "  91  92  93  94  95  96  97  98  99 100]\n"
     ]
    }
   ],
   "source": [
    "#group messages with same conversation id\n",
    "unique_conversations_ids = first_100_conversations['conversation_id'].unique()\n",
    "print(\"Unique Conversation ids:\", unique_conversations_ids)\n",
    "\n",
    "\n",
    "texts = []\n",
    "\n",
    "for conversation_id in unique_conversations_ids:\n",
    "    x = first_100_conversations[first_100_conversations[\"conversation_id\"] == conversation_id]\n",
    "    texts.append({\"id\" : conversation_id , \"text\" : \"\\n \".join(x[\"message\"])})"
   ]
  },
  {
   "cell_type": "code",
   "execution_count": 10,
   "metadata": {},
   "outputs": [
    {
     "name": "stdout",
     "output_type": "stream",
     "text": [
      "{'id': 4, 'text': \"Hi!  do you like to dance?\\n I love to dance a lot. How about you?\\n  I am really bad, but it is a good time.\\n Dancing is a lot of fun. Did you know that Bruce Lee was a great dancer?\\n  I heard that, winning Cha Cha championships and everything!\\n Yes that is amazing. He won the Hong Kong cha-cha championship back in 1958 in fact.\\n I always just thought of him as a martial arts legend.  Now he is a dance legend of sorts too!\\n Yeah!! That is correct. He was a fantastic martial artist. Did you know that Tupac danced ballet in high school?\\n  Yeah!  He was the mouse king in the Nutcracker.  Thats pretty cool, I would definitely never have guessed that about him.\\n Neither did I. That is insane because Tupac was a famous rapper.\\n  He was indeed, his music is even in the library of congress.\\n I didn't know this thanks for sharing.\\n Sure thing!  Did you hear about Michael Jackson's special patent shoes?\\n No. I know that Michael Jackson was a fantastic dancer but can you tell me more about his patent shoes if you don't mind.\\n There was a specific device in his shoes that helped with his extreme lean in some dance moves.\\n Wow!!! That is amazing coming from such a talented singer and dancer. I couldn't even dance like that even if I dreamed of it.\\n Me neither. I could never be a professional dancer.\\n I heard that some professional ballet dancer can go through four pairs of shoes in a week.\\n That is crazy!  That can't be cheap for them.\\n No. I think its very expensive for them to be professional ballet dancers based on this.\\n  It has been great chatting but I must go!  Gotta go get my Bruce Lee on, the martial arts part...  definitely not the dance.\\n Ha Ha!!! It was so nice chatting with you as well!! Have a nice day!!! Bye\\n Bye\"}\n"
     ]
    }
   ],
   "source": [
    "#checking concatinated messages in a conversation\n",
    "\n",
    "print(texts[3])"
   ]
  },
  {
   "cell_type": "code",
   "execution_count": 5,
   "metadata": {},
   "outputs": [],
   "source": [
    "#setting openai credentials\n",
    "\n",
    "import os\n",
    "\n",
    "# os.environ[\"OPENAI_API_KEY\"] = \"key\""
   ]
  },
  {
   "cell_type": "code",
   "execution_count": 23,
   "metadata": {},
   "outputs": [
    {
     "name": "stderr",
     "output_type": "stream",
     "text": [
      "  0%|          | 0/100 [00:00<?, ?it/s]"
     ]
    },
    {
     "name": "stderr",
     "output_type": "stream",
     "text": [
      "100%|██████████| 100/100 [02:22<00:00,  1.43s/it]\n"
     ]
    }
   ],
   "source": [
    "from langchain.embeddings import OpenAIEmbeddings\n",
    "from langchain.text_splitter import CharacterTextSplitter\n",
    "from langchain.vectorstores import Chroma\n",
    "\n",
    "import time\n",
    "from tqdm import tqdm\n",
    "\n",
    "\n",
    "\n",
    "embeddings = OpenAIEmbeddings() #set openai credentials for embedding\n",
    "\n",
    "collection = Chroma(\n",
    "            collection_name=\"task_3\",\n",
    "            embedding_function=embeddings,\n",
    "            persist_directory=\"onebyzero_chroma\",\n",
    "            collection_metadata={\"hnsw:space\": \"cosine\"},\n",
    "        )\n",
    "\n",
    "\n",
    "for text in tqdm(texts):\n",
    "    conversation_id = str(text['id'])\n",
    "    doc = text[\"text\"]\n",
    "    metadata = {\n",
    "        \"id\" : str(conversation_id)\n",
    "    }\n",
    "\n",
    "    collection.add_texts(texts=[doc],ids=[conversation_id],metadatas=[metadata])\n",
    "\n",
    "    time.sleep(1)\n",
    "\n",
    "collection.persist()\n",
    "\n",
    "\n",
    "\n"
   ]
  },
  {
   "cell_type": "code",
   "execution_count": 24,
   "metadata": {},
   "outputs": [],
   "source": [
    "# db = Chroma.from_texts(texts, embeddings, persist_directory=\"onebyzero_chroma\")\n",
    "# retriever = db.as_retriever()\n",
    "\n",
    "retriever = collection.as_retriever()"
   ]
  },
  {
   "cell_type": "code",
   "execution_count": 25,
   "metadata": {},
   "outputs": [
    {
     "name": "stdout",
     "output_type": "stream",
     "text": [
      "Good evening!  Do you know much about Maryland's governor?\n",
      "  Not too much,  so you?  Did you know that ralph lawrence carr was the only governor to oppose the internement of japanese americans during ww2?\n",
      "  I didn't know that.  Maryland's governor, Larry Hogan, is a republican who was under some hot water for policies on climate change.\n",
      "  Thats interesting.  the beatles song\"come together\" was written for 1969 governor campaign.\n",
      "  Larry Hogan could probably have used the support of a group like the Beatles, but I'm sure he will be ok.  At least he isn't as bad as North Dakota's in 1934 who actually seceded from the US for a short time!\n",
      " when schwarzenegger became governor of ca he commuted 3 hours everyday lol\n",
      "  Maybe so he could leave the office every day and say \"I'll be back!\"  \n",
      " haha good one!\n",
      " Did you hear that Texas had a female governor before other states even allowed women to vote?\n",
      " Yeah thats really interesting. did you know there hasnt been a us president who wasnt a rep or dem since 1853?\n",
      "  Wow!  We truly are a two party system, but don't try getting elected as president as a democrat with a beard.  So far all bearded presidents have been republican.\n",
      "  Im not excited about that,  I will never be president lol \n",
      " It's crazy to think that red/blue connotations for the parties isn't even 20 years old.\n",
      "  Yeah it seems like that was always the case,  but I guess not.  \n",
      "  The Bush's had a heck of a run with three terms.  In fact, before Trump, you'd have to go back to 1928 to find an elected republican that didn't have nixon or a bush.\n",
      "  Thats interesting,  do you know much about our planets?  The planet uranus rotates sideways instead of spinning. \n",
      " Crazy!  Jupiter is so big that it has moons that would be planets if they simply orbited the sun and Jupiter.\n",
      " That is cool.  there is a planet that shards of glass rain sideways at 4500 mph!!!  thats insane!\n",
      " Wow.  There are some crazy planets out there.  Venus doesn't even have seasons because it doesn't tilt and rotates in a different direction than the rest of the planets that revolve around our sun.\n",
      "  That is really interesting. I heard that astronauts can vote from space, lol. \n",
      " Must have been an absentee ballot!\n",
      "  It's been fun chatting,  have a good one. \n",
      "{'id': '63'}\n"
     ]
    }
   ],
   "source": [
    "retrieved_docs = retriever.invoke(\n",
    "    \"What did the president say about Ketanji Brown Jackson?\"\n",
    ")\n",
    "print(retrieved_docs[0].page_content)\n",
    "print(retrieved_docs[0].metadata)\n"
   ]
  },
  {
   "cell_type": "code",
   "execution_count": 26,
   "metadata": {},
   "outputs": [],
   "source": [
    "\n",
    "from langchain.chat_models import AzureChatOpenAI, ChatOpenAI\n",
    "from langchain.prompts import PromptTemplate\n",
    "\n",
    "from langchain.output_parsers import PydanticOutputParser\n",
    "from langchain.output_parsers import RetryWithErrorOutputParser\n",
    "from pydantic import BaseModel, Field, validator\n",
    "\n",
    "\n",
    "llm = ChatOpenAI() #add openai credentials\n",
    "\n",
    "class AnswerModel(BaseModel):\n",
    "    answer: str = Field(description=\"answer to the user query\")\n",
    "\n",
    "\n",
    "parser = PydanticOutputParser(pydantic_object=AnswerModel)\n",
    "\n",
    "template = \"\"\"Answer the user query based on the given context , the question is irrelavant to the context provided then say 'I Can't answer right now'.context : {context}, query : {user_query} \\n format instructions : {format_instructions}\"\"\"\n",
    "\n",
    "\n",
    "prompt = PromptTemplate(\n",
    "    template=template,\n",
    "    input_variables=[\"user_query\",\"context\"],\n",
    "    partial_variables={\"format_instructions\": parser.get_format_instructions()},\n",
    ")"
   ]
  },
  {
   "cell_type": "code",
   "execution_count": 28,
   "metadata": {},
   "outputs": [],
   "source": [
    "\n",
    "def answer_query(query):\n",
    "\n",
    "    retrieved_docs = retriever.invoke(query)\n",
    "    context = retrieved_docs[0].page_content\n",
    "    conversation = retrieved_docs[0].metadata['id']\n",
    "\n",
    "    input = prompt.format_prompt(user_query=query,context=context)\n",
    "    o = llm.predict(input.to_string())\n",
    "    retry_parser = RetryWithErrorOutputParser.from_llm(parser=parser, llm=llm)\n",
    "    model = retry_parser.parse_with_prompt(o, input)\n",
    "    return model.answer , f\"conversation reference : {conversation}\""
   ]
  },
  {
   "cell_type": "markdown",
   "metadata": {},
   "source": [
    "answer_query Method Takes the Questions and get the context from the conversation and answers the question."
   ]
  },
  {
   "cell_type": "code",
   "execution_count": 30,
   "metadata": {},
   "outputs": [
    {
     "data": {
      "text/plain": [
       "('Ralph Lawrence Carr was the only governor to oppose the internment of Japanese Americans during WW2.',\n",
       " 'conversation reference : 63')"
      ]
     },
     "execution_count": 30,
     "metadata": {},
     "output_type": "execute_result"
    }
   ],
   "source": [
    "answer_query(\"who is ralph lawrence carr\")"
   ]
  },
  {
   "cell_type": "code",
   "execution_count": null,
   "metadata": {},
   "outputs": [],
   "source": []
  }
 ],
 "metadata": {
  "kernelspec": {
   "display_name": "Python 3",
   "language": "python",
   "name": "python3"
  },
  "language_info": {
   "codemirror_mode": {
    "name": "ipython",
    "version": 3
   },
   "file_extension": ".py",
   "mimetype": "text/x-python",
   "name": "python",
   "nbconvert_exporter": "python",
   "pygments_lexer": "ipython3",
   "version": "3.11.5"
  }
 },
 "nbformat": 4,
 "nbformat_minor": 2
}
